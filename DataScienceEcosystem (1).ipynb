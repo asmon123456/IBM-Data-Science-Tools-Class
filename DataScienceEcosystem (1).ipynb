{
 "cells": [
  {
   "cell_type": "markdown",
   "id": "2fd1bb8d-4a1f-44f0-90a9-5ab9fba47a6a",
   "metadata": {},
   "source": [
    "# Data Science Tools and Ecosystem"
   ]
  },
  {
   "cell_type": "markdown",
   "id": "3476e4f2-e0da-42f5-96ce-c72b93144cc5",
   "metadata": {},
   "source": [
    "In this Notebook, Data Science Tools and Ecosystems are summarized"
   ]
  },
  {
   "cell_type": "markdown",
   "id": "f7b04f37-3c80-49b1-84a2-7b8aa0d0bdec",
   "metadata": {},
   "source": [
    "Some of the popular languages that Data Scientists use are:\n",
    "1. Python\n",
    "2. SQL\n",
    "3. R"
   ]
  },
  {
   "cell_type": "markdown",
   "id": "15573062-04d4-4dce-9933-c22f23c2a957",
   "metadata": {},
   "source": [
    "Some of the commonly used libraries used by data scientists include:\n",
    "1. Numpy \n",
    "2. Caret\n",
    "3. ggplot"
   ]
  },
  {
   "cell_type": "markdown",
   "id": "ab51422c-14bd-4eb4-af1d-93447ef5c0fd",
   "metadata": {},
   "source": [
    "| Data Science Tools |\n",
    "| ---------- |\n",
    "| IBM Watson |\n",
    "| IBM Cognos |\n",
    "| Talend |\n"
   ]
  },
  {
   "cell_type": "markdown",
   "id": "613bf12c-3a4e-4f4b-ab96-8682a031c123",
   "metadata": {},
   "source": [
    "### Below are a few examples of evaluating arithmetic expressions in Python"
   ]
  },
  {
   "cell_type": "code",
   "execution_count": 3,
   "id": "581344e5-c2be-4365-927b-55882581de31",
   "metadata": {
    "tags": []
   },
   "outputs": [
    {
     "data": {
      "text/plain": [
       "17"
      ]
     },
     "execution_count": 3,
     "metadata": {},
     "output_type": "execute_result"
    }
   ],
   "source": [
    "(3*4)+5\n",
    "# This a simple arithmetic expression to mutiply then add integers"
   ]
  },
  {
   "cell_type": "code",
   "execution_count": 4,
   "id": "604f7350-4daa-4762-a224-ddc50281fa2d",
   "metadata": {
    "tags": []
   },
   "outputs": [
    {
     "name": "stdout",
     "output_type": "stream",
     "text": [
      "3.3333333333333335  Hours\n"
     ]
    }
   ],
   "source": [
    "x = 200 / 60\n",
    "# This will convert 200 minutes to hours by dicviding by 60\n",
    "print(x, ' Hours')"
   ]
  },
  {
   "cell_type": "markdown",
   "id": "d48d9d5c-592e-49c2-b7b7-240c9d447e35",
   "metadata": {},
   "source": [
    "**Objectives**\n",
    "- List popular languages for Data Science\n",
    "- List commonly used libraries\n",
    "- Demonstrate how to do simple arithmetic"
   ]
  },
  {
   "cell_type": "markdown",
   "id": "2067276b-8ade-4cce-aa58-a673ca9015e1",
   "metadata": {},
   "source": [
    "## Author\n",
    "Adam"
   ]
  },
  {
   "cell_type": "code",
   "execution_count": null,
   "id": "1af28010-c424-4d42-b0a7-535741a1423f",
   "metadata": {},
   "outputs": [],
   "source": []
  }
 ],
 "metadata": {
  "kernelspec": {
   "display_name": "Python",
   "language": "python",
   "name": "conda-env-python-py"
  },
  "language_info": {
   "codemirror_mode": {
    "name": "ipython",
    "version": 3
   },
   "file_extension": ".py",
   "mimetype": "text/x-python",
   "name": "python",
   "nbconvert_exporter": "python",
   "pygments_lexer": "ipython3",
   "version": "3.7.12"
  }
 },
 "nbformat": 4,
 "nbformat_minor": 5
}
